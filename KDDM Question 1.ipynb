{
 "cells": [
  {
   "cell_type": "markdown",
   "id": "4d2d43e1",
   "metadata": {},
   "source": [
    "## Import Libraries"
   ]
  },
  {
   "cell_type": "code",
   "execution_count": 1,
   "id": "25684e3f",
   "metadata": {},
   "outputs": [],
   "source": [
    "import pandas as pd\n",
    "import re\n",
    "import nltk\n",
    "from nltk.corpus import stopwords\n",
    "from nltk.stem import WordNetLemmatizer\n",
    "from sklearn.feature_extraction.text import TfidfVectorizer"
   ]
  },
  {
   "cell_type": "markdown",
   "id": "335f5c6b",
   "metadata": {},
   "source": [
    "## Download necessary resources"
   ]
  },
  {
   "cell_type": "code",
   "execution_count": 2,
   "id": "44f00f08",
   "metadata": {},
   "outputs": [
    {
     "name": "stderr",
     "output_type": "stream",
     "text": [
      "[nltk_data] Downloading package stopwords to\n",
      "[nltk_data]     C:\\Users\\Maclan\\AppData\\Roaming\\nltk_data...\n",
      "[nltk_data]   Package stopwords is already up-to-date!\n",
      "[nltk_data] Downloading package punkt to\n",
      "[nltk_data]     C:\\Users\\Maclan\\AppData\\Roaming\\nltk_data...\n",
      "[nltk_data]   Package punkt is already up-to-date!\n",
      "[nltk_data] Downloading package wordnet to\n",
      "[nltk_data]     C:\\Users\\Maclan\\AppData\\Roaming\\nltk_data...\n",
      "[nltk_data]   Package wordnet is already up-to-date!\n"
     ]
    },
    {
     "data": {
      "text/plain": [
       "True"
      ]
     },
     "execution_count": 2,
     "metadata": {},
     "output_type": "execute_result"
    }
   ],
   "source": [
    "nltk.download('stopwords')\n",
    "nltk.download('punkt')\n",
    "nltk.download('wordnet')"
   ]
  },
  {
   "cell_type": "markdown",
   "id": "1085024c",
   "metadata": {},
   "source": [
    "## Loading data"
   ]
  },
  {
   "cell_type": "code",
   "execution_count": 3,
   "id": "62332157",
   "metadata": {},
   "outputs": [
    {
     "data": {
      "text/html": [
       "<div>\n",
       "<style scoped>\n",
       "    .dataframe tbody tr th:only-of-type {\n",
       "        vertical-align: middle;\n",
       "    }\n",
       "\n",
       "    .dataframe tbody tr th {\n",
       "        vertical-align: top;\n",
       "    }\n",
       "\n",
       "    .dataframe thead th {\n",
       "        text-align: right;\n",
       "    }\n",
       "</style>\n",
       "<table border=\"1\" class=\"dataframe\">\n",
       "  <thead>\n",
       "    <tr style=\"text-align: right;\">\n",
       "      <th></th>\n",
       "      <th>Unnamed: 0</th>\n",
       "      <th>speaker_name</th>\n",
       "      <th>speaker_role</th>\n",
       "      <th>speaker_party</th>\n",
       "      <th>date</th>\n",
       "      <th>year</th>\n",
       "      <th>debate_title</th>\n",
       "      <th>talk_text</th>\n",
       "    </tr>\n",
       "  </thead>\n",
       "  <tbody>\n",
       "    <tr>\n",
       "      <th>0</th>\n",
       "      <td>81414</td>\n",
       "      <td>Roberta Metsola</td>\n",
       "      <td>NaN</td>\n",
       "      <td>NaN</td>\n",
       "      <td>2022-01-17</td>\n",
       "      <td>2022</td>\n",
       "      <td>Resumption of the session</td>\n",
       "      <td>declaration repeats the session of the europe...</td>\n",
       "    </tr>\n",
       "    <tr>\n",
       "      <th>1</th>\n",
       "      <td>81415</td>\n",
       "      <td>Roberta Metsola</td>\n",
       "      <td>NaN</td>\n",
       "      <td>NaN</td>\n",
       "      <td>2022-01-17</td>\n",
       "      <td>2022</td>\n",
       "      <td>Memorial ceremony for President David Maria Sa...</td>\n",
       "      <td>it is with great sadness that today we are pr...</td>\n",
       "    </tr>\n",
       "    <tr>\n",
       "      <th>2</th>\n",
       "      <td>81416</td>\n",
       "      <td>Enrico Letta</td>\n",
       "      <td>NaN</td>\n",
       "      <td>NaN</td>\n",
       "      <td>2022-01-17</td>\n",
       "      <td>2022</td>\n",
       "      <td>Memorial ceremony for President David Maria Sa...</td>\n",
       "      <td>secretary of the italian democratic party and...</td>\n",
       "    </tr>\n",
       "    <tr>\n",
       "      <th>3</th>\n",
       "      <td>81417</td>\n",
       "      <td>Roberta Metsola</td>\n",
       "      <td>NaN</td>\n",
       "      <td>NaN</td>\n",
       "      <td>2022-01-17</td>\n",
       "      <td>2022</td>\n",
       "      <td>Memorial ceremony for President David Maria Sa...</td>\n",
       "      <td>there will be a musical interlude for a few mi...</td>\n",
       "    </tr>\n",
       "    <tr>\n",
       "      <th>4</th>\n",
       "      <td>81418</td>\n",
       "      <td>Charles Michel</td>\n",
       "      <td>NaN</td>\n",
       "      <td>NaN</td>\n",
       "      <td>2022-01-17</td>\n",
       "      <td>2022</td>\n",
       "      <td>Memorial ceremony for President David Maria Sa...</td>\n",
       "      <td>president of the european council. “mr. presi...</td>\n",
       "    </tr>\n",
       "  </tbody>\n",
       "</table>\n",
       "</div>"
      ],
      "text/plain": [
       "   Unnamed: 0     speaker_name speaker_role speaker_party        date  year  \\\n",
       "0       81414  Roberta Metsola          NaN           NaN  2022-01-17  2022   \n",
       "1       81415  Roberta Metsola          NaN           NaN  2022-01-17  2022   \n",
       "2       81416     Enrico Letta          NaN           NaN  2022-01-17  2022   \n",
       "3       81417  Roberta Metsola          NaN           NaN  2022-01-17  2022   \n",
       "4       81418   Charles Michel          NaN           NaN  2022-01-17  2022   \n",
       "\n",
       "                                        debate_title  \\\n",
       "0                          Resumption of the session   \n",
       "1  Memorial ceremony for President David Maria Sa...   \n",
       "2  Memorial ceremony for President David Maria Sa...   \n",
       "3  Memorial ceremony for President David Maria Sa...   \n",
       "4  Memorial ceremony for President David Maria Sa...   \n",
       "\n",
       "                                           talk_text  \n",
       "0   declaration repeats the session of the europe...  \n",
       "1   it is with great sadness that today we are pr...  \n",
       "2   secretary of the italian democratic party and...  \n",
       "3  there will be a musical interlude for a few mi...  \n",
       "4   president of the european council. “mr. presi...  "
      ]
     },
     "execution_count": 3,
     "metadata": {},
     "output_type": "execute_result"
    }
   ],
   "source": [
    "df = pd.read_csv('C:\\\\Users\\\\Maclan\\\\OneDrive\\\\Desktop\\\\Assignment 2\\\\debates_2022.csv')\n",
    "df.head()"
   ]
  },
  {
   "cell_type": "code",
   "execution_count": 4,
   "id": "4e2a2de5",
   "metadata": {},
   "outputs": [],
   "source": [
    "texts = df['talk_text']"
   ]
  },
  {
   "cell_type": "code",
   "execution_count": 5,
   "id": "d5457c3d",
   "metadata": {},
   "outputs": [
    {
     "data": {
      "text/plain": [
       "0         declaration repeats the session of the europe...\n",
       "1         it is with great sadness that today we are pr...\n",
       "2         secretary of the italian democratic party and...\n",
       "3        there will be a musical interlude for a few mi...\n",
       "4         president of the european council. “mr. presi...\n",
       "                               ...                        \n",
       "14492                             that concludes the item.\n",
       "14493    the minutes of this sitting will be submitted ...\n",
       "14494    the next part-session will take place from 16–...\n",
       "14495    let me wish you all merry christmas and happy ...\n",
       "14496    i declare adjourned the session of the europea...\n",
       "Name: talk_text, Length: 14497, dtype: object"
      ]
     },
     "execution_count": 5,
     "metadata": {},
     "output_type": "execute_result"
    }
   ],
   "source": [
    "texts"
   ]
  },
  {
   "cell_type": "code",
   "execution_count": 21,
   "id": "c4894ee4",
   "metadata": {
    "scrolled": false
   },
   "outputs": [
    {
     "data": {
      "text/plain": [
       "701"
      ]
     },
     "execution_count": 21,
     "metadata": {},
     "output_type": "execute_result"
    }
   ],
   "source": [
    "unique_topics = df['debate_title'].nunique()\n",
    "unique_topics"
   ]
  },
  {
   "cell_type": "code",
   "execution_count": 6,
   "id": "1778ef75",
   "metadata": {},
   "outputs": [],
   "source": [
    "def preprocess_text(text):\n",
    "    # 1. Lowercasing\n",
    "    text = text.lower()\n",
    "    \n",
    "    # 2. Removing non-alphanumeric characters (keeping spaces and letters only)\n",
    "    text = re.sub(r'[^a-zA-Z\\s]', '', text)\n",
    "    \n",
    "    # 3. Tokenization (splitting text into words)\n",
    "    words = nltk.word_tokenize(text)\n",
    "    \n",
    "    # 4. Remove stopwords\n",
    "    stop_words = set(stopwords.words('english'))\n",
    "    words = [word for word in words if word not in stop_words]\n",
    "    \n",
    "    # 5. Lemmatization (to reduce words to their base form)\n",
    "    lemmatizer = WordNetLemmatizer()\n",
    "    words = [lemmatizer.lemmatize(word) for word in words]\n",
    "    \n",
    "    # 6. Join words back into a string\n",
    "    return ' '.join(words)\n",
    "\n",
    "# Apply preprocessing to the text data\n",
    "preprocessed_texts = texts.apply(preprocess_text)"
   ]
  },
  {
   "cell_type": "code",
   "execution_count": 7,
   "id": "81c2e2f5",
   "metadata": {},
   "outputs": [
    {
     "data": {
      "text/plain": [
       "0        declaration repeat session european parliament...\n",
       "1        great sadness today preparing give last commit...\n",
       "2        secretary italian democratic party former pres...\n",
       "3        musical interlude minute musical interlude cel...\n",
       "4        president european council mr president europe...\n",
       "                               ...                        \n",
       "14492                                       concludes item\n",
       "14493    minute sitting submitted parliament approval b...\n",
       "14494                  next partsession take place january\n",
       "14495    let wish merry christmas happy new year behalf...\n",
       "14496        declare adjourned session european parliament\n",
       "Name: talk_text, Length: 14497, dtype: object"
      ]
     },
     "execution_count": 7,
     "metadata": {},
     "output_type": "execute_result"
    }
   ],
   "source": [
    "preprocessed_texts"
   ]
  },
  {
   "cell_type": "code",
   "execution_count": 8,
   "id": "5eda3cb8",
   "metadata": {},
   "outputs": [],
   "source": [
    "vectorizer = TfidfVectorizer(\n",
    "    max_df=0.85,  # Ignore words that appear in more than 85% of documents\n",
    "    min_df=5,     # Ignore words that appear in less than 5 documents\n",
    "    ngram_range=(1, 2),  # Use unigrams and bigrams\n",
    "    stop_words='english'  # Remove common English stopwords\n",
    ")"
   ]
  },
  {
   "cell_type": "code",
   "execution_count": 9,
   "id": "f0c71692",
   "metadata": {},
   "outputs": [],
   "source": [
    "X = vectorizer.fit_transform(preprocessed_texts)"
   ]
  },
  {
   "cell_type": "code",
   "execution_count": 10,
   "id": "e04d8476",
   "metadata": {},
   "outputs": [
    {
     "data": {
      "text/plain": [
       "<14497x47201 sparse matrix of type '<class 'numpy.float64'>'\n",
       "\twith 1605530 stored elements in Compressed Sparse Row format>"
      ]
     },
     "execution_count": 10,
     "metadata": {},
     "output_type": "execute_result"
    }
   ],
   "source": [
    "X"
   ]
  },
  {
   "cell_type": "code",
   "execution_count": 11,
   "id": "88d5a09d",
   "metadata": {},
   "outputs": [
    {
     "name": "stdout",
     "output_type": "stream",
     "text": [
      "Features (Top 20): ['abandon' 'abandoned' 'abandoning' 'abandonment' 'abd' 'abd elfattah'\n",
      " 'abdel' 'abducted' 'abduction' 'aber' 'aberration' 'abhorrent' 'abide'\n",
      " 'abiding' 'ability' 'ability act' 'ability build' 'ability face'\n",
      " 'ability make' 'ability manage']\n"
     ]
    }
   ],
   "source": [
    "print(\"Features (Top 20):\", vectorizer.get_feature_names_out()[:20])"
   ]
  },
  {
   "cell_type": "code",
   "execution_count": 12,
   "id": "cab09148",
   "metadata": {},
   "outputs": [
    {
     "name": "stdout",
     "output_type": "stream",
     "text": [
      "    abandon  abandoned  abandoning  abandonment  abd  abd elfattah  abdel  \\\n",
      "0  0.000000        0.0         0.0          0.0  0.0           0.0    0.0   \n",
      "1  0.056970        0.0         0.0          0.0  0.0           0.0    0.0   \n",
      "2  0.017682        0.0         0.0          0.0  0.0           0.0    0.0   \n",
      "3  0.000000        0.0         0.0          0.0  0.0           0.0    0.0   \n",
      "4  0.000000        0.0         0.0          0.0  0.0           0.0    0.0   \n",
      "\n",
      "   abducted  abduction  aber  ...  zeroemission vehicle  zerotolerance  \\\n",
      "0       0.0        0.0   0.0  ...                   0.0            0.0   \n",
      "1       0.0        0.0   0.0  ...                   0.0            0.0   \n",
      "2       0.0        0.0   0.0  ...                   0.0            0.0   \n",
      "3       0.0        0.0   0.0  ...                   0.0            0.0   \n",
      "4       0.0        0.0   0.0  ...                   0.0            0.0   \n",
      "\n",
      "   zimbabwe  zimniok  ziobro  zloty  zone  zovko   zu  zum  \n",
      "0       0.0      0.0     0.0    0.0   0.0    0.0  0.0  0.0  \n",
      "1       0.0      0.0     0.0    0.0   0.0    0.0  0.0  0.0  \n",
      "2       0.0      0.0     0.0    0.0   0.0    0.0  0.0  0.0  \n",
      "3       0.0      0.0     0.0    0.0   0.0    0.0  0.0  0.0  \n",
      "4       0.0      0.0     0.0    0.0   0.0    0.0  0.0  0.0  \n",
      "\n",
      "[5 rows x 47201 columns]\n"
     ]
    }
   ],
   "source": [
    "# Convert the matrix to a DataFrame\n",
    "tfidf_df = pd.DataFrame(X.toarray(), columns=vectorizer.get_feature_names_out())\n",
    "\n",
    "# Display the top few rows of the TF-IDF DataFrame\n",
    "print(tfidf_df.head())"
   ]
  },
  {
   "cell_type": "code",
   "execution_count": 34,
   "id": "c15820d2",
   "metadata": {},
   "outputs": [
    {
     "data": {
      "text/plain": [
       "(14497, 47201)"
      ]
     },
     "execution_count": 34,
     "metadata": {},
     "output_type": "execute_result"
    }
   ],
   "source": [
    "tfidf_df.shape"
   ]
  },
  {
   "cell_type": "markdown",
   "id": "4ce660f6",
   "metadata": {},
   "source": [
    "# Question 2"
   ]
  },
  {
   "cell_type": "code",
   "execution_count": 33,
   "id": "76776411",
   "metadata": {},
   "outputs": [
    {
     "name": "stdout",
     "output_type": "stream",
     "text": [
      "Silhouette Score: 0.021332512958355285\n"
     ]
    }
   ],
   "source": [
    "from sklearn.cluster import KMeans\n",
    "from sklearn.metrics import silhouette_score\n",
    "import numpy as np\n",
    "\n",
    "# Clustering using K-Means\n",
    "num_clusters = 89  # Set the number of clusters (You can adjust this based on evaluation metrics)\n",
    "\n",
    "# Apply K-Means clustering\n",
    "kmeans = KMeans(n_clusters=num_clusters, random_state=42)\n",
    "kmeans.fit(X)\n",
    "\n",
    "# Get the cluster labels\n",
    "labels = kmeans.labels_\n",
    "\n",
    "# Evaluate clustering using silhouette score\n",
    "sil_score = silhouette_score(X, labels)\n",
    "\n",
    "# Show the results\n",
    "print(f\"Silhouette Score: {sil_score}\")\n",
    "\n",
    "# Extract the top 10 words for each cluster\n",
    "#order_centroids = kmeans.cluster_centers_.argsort()[:, ::-1]\n",
    "#terms = vectorizer.get_feature_names_out()\n",
    "\n",
    "# Display the top 10 words in each cluster\n",
    "#for i in range(num_clusters):\n",
    "#    print(f\"Cluster {i+1} top 10 words:\")\n",
    "#    top_words = [terms[ind] for ind in order_centroids[i, :10]]\n",
    "#    print(\", \".join(top_words))\n",
    "#    print(\"\\n\")"
   ]
  },
  {
   "cell_type": "code",
   "execution_count": 35,
   "id": "123b8f4e",
   "metadata": {},
   "outputs": [
    {
     "name": "stdout",
     "output_type": "stream",
     "text": [
      "Silhouette Score: 0.01934979279730923\n"
     ]
    }
   ],
   "source": [
    "num_clusters = 79  # Set the number of clusters (You can adjust this based on evaluation metrics)\n",
    "\n",
    "# Apply K-Means clustering\n",
    "kmeans = KMeans(n_clusters=num_clusters, random_state=42)\n",
    "kmeans.fit(X)\n",
    "\n",
    "# Get the cluster labels\n",
    "labels = kmeans.labels_\n",
    "\n",
    "# Evaluate clustering using silhouette score\n",
    "sil_score = silhouette_score(X, labels)\n",
    "\n",
    "# Show the results\n",
    "print(f\"Silhouette Score: {sil_score}\")"
   ]
  },
  {
   "cell_type": "code",
   "execution_count": 40,
   "id": "738e671d",
   "metadata": {},
   "outputs": [
    {
     "name": "stdout",
     "output_type": "stream",
     "text": [
      "Silhouette Score: 0.025902592804124765\n"
     ]
    }
   ],
   "source": [
    "num_clusters = 141  # Set the number of clusters (You can adjust this based on evaluation metrics)\n",
    "\n",
    "# Apply K-Means clustering\n",
    "kmeans = KMeans(n_clusters=num_clusters, random_state=42)\n",
    "kmeans.fit(X)\n",
    "\n",
    "# Get the cluster labels\n",
    "labels = kmeans.labels_\n",
    "\n",
    "# Evaluate clustering using silhouette score\n",
    "sil_score = silhouette_score(X, labels)\n",
    "\n",
    "# Show the results\n",
    "print(f\"Silhouette Score: {sil_score}\")"
   ]
  },
  {
   "cell_type": "code",
   "execution_count": 39,
   "id": "218de6c8",
   "metadata": {},
   "outputs": [
    {
     "data": {
      "image/png": "[encoded data removed]",
      "text/plain": [
       "<Figure size 576x432 with 1 Axes>"
      ]
     },
     "metadata": {
      "needs_background": "light"
     },
     "output_type": "display_data"
    },
    {
     "name": "stdout",
     "output_type": "stream",
     "text": [
      "Optimal number of clusters (elbow point): 141\n"
     ]
    }
   ],
   "source": [
    "import numpy as np\n",
    "import matplotlib.pyplot as plt\n",
    "from sklearn.cluster import KMeans\n",
    "\n",
    "# Range of clusters to try\n",
    "k_range = range(1, 300)\n",
    "\n",
    "# List to store inertia values for each K\n",
    "inertia = []\n",
    "\n",
    "# Calculate inertia for each K\n",
    "for k in k_range:\n",
    "    kmeans = KMeans(n_clusters=k, random_state=42)  # Set n_jobs=1 to disable parallelism\n",
    "    kmeans.fit(X)\n",
    "    inertia.append(kmeans.inertia_)\n",
    "\n",
    "# Calculate the first derivative (difference between successive inertia values)\n",
    "inertia_diff = np.diff(inertia)\n",
    "\n",
    "# Find the index where the first derivative decreases the most (elbow point)\n",
    "elbow_point = np.argmax(inertia_diff) + 1  # Adding 1 because the first diff is one less than the actual K\n",
    "\n",
    "# Plot the Elbow Curve\n",
    "plt.figure(figsize=(8, 6))\n",
    "plt.plot(k_range, inertia, marker='o', linestyle='--')\n",
    "plt.axvline(x=elbow_point, color='r', linestyle='--', label=f\"Elbow Point: K={elbow_point}\")\n",
    "plt.title('Elbow Method for Optimal K')\n",
    "plt.xlabel('Number of Clusters (K)')\n",
    "plt.ylabel('Inertia')\n",
    "plt.xticks(k_range)\n",
    "plt.grid(True)\n",
    "plt.legend()\n",
    "plt.show()\n",
    "\n",
    "print(f\"Optimal number of clusters (elbow point): {elbow_point}\")"
   ]
  },
  {
   "cell_type": "code",
   "execution_count": 28,
   "id": "e251730c",
   "metadata": {},
   "outputs": [
    {
     "name": "stdout",
     "output_type": "stream",
     "text": [
      "Silhouette Score for DBSCAN (ignoring noise points): 0.38378826474129096\n",
      "Cluster labels: [ 0 -1 -1 ... -1 -1 28]\n"
     ]
    }
   ],
   "source": [
    "from sklearn.cluster import DBSCAN\n",
    "from sklearn.metrics import silhouette_score\n",
    "import numpy as np\n",
    "\n",
    "# Apply DBSCAN clustering\n",
    "dbscan = DBSCAN(eps=0.5, min_samples=5, metric='cosine')  # Use cosine similarity for text data\n",
    "labels = dbscan.fit_predict(X)\n",
    "\n",
    "# Evaluate clustering using silhouette score (only for clusters, ignoring noise points)\n",
    "# Noise points are labeled as -1 by DBSCAN\n",
    "valid_labels = labels[labels != -1]\n",
    "valid_X = X[labels != -1]\n",
    "\n",
    "sil_score = silhouette_score(valid_X, valid_labels, metric='cosine')\n",
    "\n",
    "# Print results\n",
    "print(f\"Silhouette Score for DBSCAN (ignoring noise points): {sil_score}\")\n",
    "\n",
    "# Display the cluster labels for each document\n",
    "print(\"Cluster labels:\", labels)"
   ]
  },
  {
   "cell_type": "code",
   "execution_count": 30,
   "id": "1de20c4a",
   "metadata": {},
   "outputs": [
    {
     "data": {
      "text/plain": [
       "(14497,)"
      ]
     },
     "execution_count": 30,
     "metadata": {},
     "output_type": "execute_result"
    }
   ],
   "source": [
    "labels.shape"
   ]
  },
  {
   "cell_type": "code",
   "execution_count": 31,
   "id": "bf721cb6",
   "metadata": {},
   "outputs": [
    {
     "name": "stdout",
     "output_type": "stream",
     "text": [
      "Total number of labels (clusters including noise): 80\n",
      "Total number of clusters (excluding noise): 79\n"
     ]
    }
   ],
   "source": [
    "unique_labels = np.unique(labels)\n",
    "\n",
    "# Get the number of clusters (excluding noise if desired)\n",
    "num_clusters = len(unique_labels)  # Including noise\n",
    "num_clusters_excluding_noise = len(unique_labels[unique_labels != -1])  # Excluding noise\n",
    "\n",
    "print(f\"Total number of labels (clusters including noise): {num_clusters}\")\n",
    "print(f\"Total number of clusters (excluding noise): {num_clusters_excluding_noise}\")"
   ]
  },
  {
   "cell_type": "code",
   "execution_count": 38,
   "id": "3c2c861d",
   "metadata": {},
   "outputs": [
    {
     "data": {
      "image/png": "[encoded data removed]",
      "text/plain": [
       "<Figure size 576x432 with 1 Axes>"
      ]
     },
     "metadata": {
      "needs_background": "light"
     },
     "output_type": "display_data"
    },
    {
     "name": "stdout",
     "output_type": "stream",
     "text": [
      "Optimal number of clusters based on Silhouette Score: 284\n"
     ]
    }
   ],
   "source": [
    "k_range = range(2, 300)  # You can extend this range if needed\n",
    "\n",
    "# List to store silhouette scores for each K\n",
    "sil_scores = []\n",
    "\n",
    "# Calculate Silhouette Score for each K\n",
    "for k in k_range:\n",
    "    kmeans = KMeans(n_clusters=k, random_state=42)\n",
    "    labels = kmeans.fit_predict(X)\n",
    "    score = silhouette_score(X, labels)\n",
    "    sil_scores.append(score)\n",
    "\n",
    "# Plot the Silhouette Score vs K\n",
    "plt.figure(figsize=(8, 6))\n",
    "plt.plot(k_range, sil_scores, marker='o', linestyle='--')\n",
    "plt.title('Silhouette Score vs Number of Clusters (K)')\n",
    "plt.xlabel('Number of Clusters (K)')\n",
    "plt.ylabel('Silhouette Score')\n",
    "plt.xticks(k_range)\n",
    "plt.grid(True)\n",
    "plt.show()\n",
    "\n",
    "# Find the best K (with the highest silhouette score)\n",
    "best_k = k_range[np.argmax(sil_scores)]\n",
    "print(f\"Optimal number of clusters based on Silhouette Score: {best_k}\")"
   ]
  },
  {
   "cell_type": "code",
   "execution_count": null,
   "id": "7a18152c",
   "metadata": {},
   "outputs": [],
   "source": []
  }
 ],
 "metadata": {
  "kernelspec": {
   "display_name": "Python 3 (ipykernel)",
   "language": "python",
   "name": "python3"
  },
  "language_info": {
   "codemirror_mode": {
    "name": "ipython",
    "version": 3
   },
   "file_extension": ".py",
   "mimetype": "text/x-python",
   "name": "python",
   "nbconvert_exporter": "python",
   "pygments_lexer": "ipython3",
   "version": "3.9.12"
  }
 },
 "nbformat": 4,
 "nbformat_minor": 5
}
